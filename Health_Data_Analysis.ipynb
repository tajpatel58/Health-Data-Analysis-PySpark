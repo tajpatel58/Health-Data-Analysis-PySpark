{
 "cells": [
  {
   "cell_type": "code",
   "execution_count": 1,
   "metadata": {},
   "outputs": [],
   "source": [
    "from xml.etree import ElementTree\n",
    "import pandas as pd\n",
    "from pyspark.sql import SparkSessions"
   ]
  },
  {
   "cell_type": "code",
   "execution_count": 2,
   "metadata": {},
   "outputs": [],
   "source": [
    "tree = ElementTree.parse('./apple_health_export/export-fixed.xml')"
   ]
  },
  {
   "cell_type": "code",
   "execution_count": 3,
   "metadata": {},
   "outputs": [],
   "source": [
    "root = tree.getroot()"
   ]
  },
  {
   "cell_type": "code",
   "execution_count": 4,
   "metadata": {},
   "outputs": [],
   "source": [
    "record_list = [x.attrib for x in root.iter('Record')]"
   ]
  },
  {
   "cell_type": "code",
   "execution_count": 5,
   "metadata": {},
   "outputs": [],
   "source": [
    "child_tag_list = [(child.tag, child.attrib) for child in root]"
   ]
  },
  {
   "cell_type": "code",
   "execution_count": 7,
   "metadata": {},
   "outputs": [],
   "source": [
    "child_attrib_list = [child.attrib for child in root]"
   ]
  },
  {
   "cell_type": "code",
   "execution_count": 8,
   "metadata": {},
   "outputs": [
    {
     "name": "stdout",
     "output_type": "stream",
     "text": [
      "2835132\n"
     ]
    }
   ],
   "source": [
    "print(len(child_tag_list))"
   ]
  },
  {
   "cell_type": "code",
   "execution_count": 11,
   "metadata": {},
   "outputs": [],
   "source": [
    "child_tags = [tup[0] for tup in child_tag_list]"
   ]
  },
  {
   "cell_type": "code",
   "execution_count": 12,
   "metadata": {},
   "outputs": [
    {
     "name": "stdout",
     "output_type": "stream",
     "text": [
      "{'Workout', 'ExportDate', 'ActivitySummary', 'Record', 'Me'}\n"
     ]
    }
   ],
   "source": [
    "print(set(child_tags))"
   ]
  },
  {
   "cell_type": "code",
   "execution_count": 21,
   "metadata": {},
   "outputs": [
    {
     "name": "stdout",
     "output_type": "stream",
     "text": [
      "{'workoutActivityType': 'HKWorkoutActivityTypeOther', 'duration': '31.61249478260676', 'durationUnit': 'min', 'sourceName': 'Taj’s Apple\\xa0Watch', 'sourceVersion': '4.3.1', 'creationDate': '2018-07-29 22:55:38 +0000', 'startDate': '2018-07-29 22:24:00 +0000', 'endDate': '2018-07-29 22:55:37 +0000'}\n"
     ]
    }
   ],
   "source": [
    "for tup in child_tag_list:\n",
    "    if tup[0] == 'Workout' and tup[1]['workoutActivityType'] == 'HKWorkoutActivityTypeOther':\n",
    "        print(tup[1])\n",
    "        break"
   ]
  },
  {
   "cell_type": "code",
   "execution_count": 19,
   "metadata": {},
   "outputs": [
    {
     "name": "stdout",
     "output_type": "stream",
     "text": [
      "{'dateComponents': '1969-12-30', 'activeEnergyBurned': '0', 'activeEnergyBurnedGoal': '0', 'activeEnergyBurnedUnit': 'kcal', 'appleMoveTime': '0', 'appleMoveTimeGoal': '0', 'appleExerciseTime': '0', 'appleExerciseTimeGoal': '30', 'appleStandHours': '0', 'appleStandHoursGoal': '12'}\n"
     ]
    }
   ],
   "source": [
    "for tup in child_tag_list:\n",
    "    if tup[0] == 'ActivitySummary':\n",
    "        print(tup[1])\n",
    "        break"
   ]
  },
  {
   "cell_type": "code",
   "execution_count": 13,
   "metadata": {},
   "outputs": [
    {
     "ename": "AttributeError",
     "evalue": "'list' object has no attribute 'keys'",
     "output_type": "error",
     "traceback": [
      "\u001b[0;31m---------------------------------------------------------------------------\u001b[0m",
      "\u001b[0;31mAttributeError\u001b[0m                            Traceback (most recent call last)",
      "\u001b[1;32m/Users/tajsmac/Documents/Health-Data-Analysis/Health_Data_Analysis.ipynb Cell 10\u001b[0m in \u001b[0;36m<cell line: 1>\u001b[0;34m()\u001b[0m\n\u001b[0;32m----> <a href='vscode-notebook-cell:/Users/tajsmac/Documents/Health-Data-Analysis/Health_Data_Analysis.ipynb#X22sZmlsZQ%3D%3D?line=0'>1</a>\u001b[0m \u001b[39mprint\u001b[39m(\u001b[39mset\u001b[39m(child_attrib_list\u001b[39m.\u001b[39;49mkeys()))\n",
      "\u001b[0;31mAttributeError\u001b[0m: 'list' object has no attribute 'keys'"
     ]
    }
   ],
   "source": [
    "print(set(child_attrib_list.keys()))"
   ]
  },
  {
   "cell_type": "code",
   "execution_count": 5,
   "metadata": {},
   "outputs": [],
   "source": [
    "data = pd.DataFrame(record_list)"
   ]
  },
  {
   "cell_type": "code",
   "execution_count": 6,
   "metadata": {},
   "outputs": [
    {
     "data": {
      "text/html": [
       "<div>\n",
       "<style scoped>\n",
       "    .dataframe tbody tr th:only-of-type {\n",
       "        vertical-align: middle;\n",
       "    }\n",
       "\n",
       "    .dataframe tbody tr th {\n",
       "        vertical-align: top;\n",
       "    }\n",
       "\n",
       "    .dataframe thead th {\n",
       "        text-align: right;\n",
       "    }\n",
       "</style>\n",
       "<table border=\"1\" class=\"dataframe\">\n",
       "  <thead>\n",
       "    <tr style=\"text-align: right;\">\n",
       "      <th></th>\n",
       "      <th>type</th>\n",
       "      <th>sourceName</th>\n",
       "      <th>sourceVersion</th>\n",
       "      <th>unit</th>\n",
       "      <th>creationDate</th>\n",
       "      <th>startDate</th>\n",
       "      <th>endDate</th>\n",
       "      <th>value</th>\n",
       "      <th>device</th>\n",
       "    </tr>\n",
       "  </thead>\n",
       "  <tbody>\n",
       "    <tr>\n",
       "      <th>0</th>\n",
       "      <td>HKQuantityTypeIdentifierBodyMassIndex</td>\n",
       "      <td>Renpho</td>\n",
       "      <td>1</td>\n",
       "      <td>count</td>\n",
       "      <td>2020-05-09 09:22:39 +0000</td>\n",
       "      <td>2020-03-27 07:36:37 +0000</td>\n",
       "      <td>2020-03-27 07:36:37 +0000</td>\n",
       "      <td>21.7</td>\n",
       "      <td>NaN</td>\n",
       "    </tr>\n",
       "    <tr>\n",
       "      <th>1</th>\n",
       "      <td>HKQuantityTypeIdentifierBodyMassIndex</td>\n",
       "      <td>Renpho</td>\n",
       "      <td>1</td>\n",
       "      <td>count</td>\n",
       "      <td>2020-05-09 09:22:39 +0000</td>\n",
       "      <td>2020-03-11 10:38:05 +0000</td>\n",
       "      <td>2020-03-11 10:38:05 +0000</td>\n",
       "      <td>21.4</td>\n",
       "      <td>NaN</td>\n",
       "    </tr>\n",
       "    <tr>\n",
       "      <th>2</th>\n",
       "      <td>HKQuantityTypeIdentifierBodyMassIndex</td>\n",
       "      <td>Renpho</td>\n",
       "      <td>1</td>\n",
       "      <td>count</td>\n",
       "      <td>2020-05-09 09:22:40 +0000</td>\n",
       "      <td>2020-03-04 10:09:09 +0000</td>\n",
       "      <td>2020-03-04 10:09:09 +0000</td>\n",
       "      <td>21.6</td>\n",
       "      <td>NaN</td>\n",
       "    </tr>\n",
       "    <tr>\n",
       "      <th>3</th>\n",
       "      <td>HKQuantityTypeIdentifierBodyMassIndex</td>\n",
       "      <td>Renpho</td>\n",
       "      <td>1</td>\n",
       "      <td>count</td>\n",
       "      <td>2020-05-09 09:22:40 +0000</td>\n",
       "      <td>2020-02-22 11:36:17 +0000</td>\n",
       "      <td>2020-02-22 11:36:17 +0000</td>\n",
       "      <td>21.1</td>\n",
       "      <td>NaN</td>\n",
       "    </tr>\n",
       "    <tr>\n",
       "      <th>4</th>\n",
       "      <td>HKQuantityTypeIdentifierBodyMassIndex</td>\n",
       "      <td>Renpho</td>\n",
       "      <td>1</td>\n",
       "      <td>count</td>\n",
       "      <td>2020-05-09 09:22:40 +0000</td>\n",
       "      <td>2020-02-19 23:32:25 +0000</td>\n",
       "      <td>2020-02-19 23:32:25 +0000</td>\n",
       "      <td>21.4</td>\n",
       "      <td>NaN</td>\n",
       "    </tr>\n",
       "  </tbody>\n",
       "</table>\n",
       "</div>"
      ],
      "text/plain": [
       "                                    type sourceName sourceVersion   unit  \\\n",
       "0  HKQuantityTypeIdentifierBodyMassIndex     Renpho             1  count   \n",
       "1  HKQuantityTypeIdentifierBodyMassIndex     Renpho             1  count   \n",
       "2  HKQuantityTypeIdentifierBodyMassIndex     Renpho             1  count   \n",
       "3  HKQuantityTypeIdentifierBodyMassIndex     Renpho             1  count   \n",
       "4  HKQuantityTypeIdentifierBodyMassIndex     Renpho             1  count   \n",
       "\n",
       "                creationDate                  startDate  \\\n",
       "0  2020-05-09 09:22:39 +0000  2020-03-27 07:36:37 +0000   \n",
       "1  2020-05-09 09:22:39 +0000  2020-03-11 10:38:05 +0000   \n",
       "2  2020-05-09 09:22:40 +0000  2020-03-04 10:09:09 +0000   \n",
       "3  2020-05-09 09:22:40 +0000  2020-02-22 11:36:17 +0000   \n",
       "4  2020-05-09 09:22:40 +0000  2020-02-19 23:32:25 +0000   \n",
       "\n",
       "                     endDate value device  \n",
       "0  2020-03-27 07:36:37 +0000  21.7    NaN  \n",
       "1  2020-03-11 10:38:05 +0000  21.4    NaN  \n",
       "2  2020-03-04 10:09:09 +0000  21.6    NaN  \n",
       "3  2020-02-22 11:36:17 +0000  21.1    NaN  \n",
       "4  2020-02-19 23:32:25 +0000  21.4    NaN  "
      ]
     },
     "execution_count": 6,
     "metadata": {},
     "output_type": "execute_result"
    }
   ],
   "source": [
    "data.head()"
   ]
  },
  {
   "cell_type": "code",
   "execution_count": 7,
   "metadata": {},
   "outputs": [
    {
     "name": "stdout",
     "output_type": "stream",
     "text": [
      "{'Sleep', 'Health', 'Taj’s iPhone', 'Taj’s Apple\\xa0Watch', 'Forest', \"Taj's iPhone\", 'Renpho', 'Clock'}\n"
     ]
    }
   ],
   "source": [
    "print(set(data['sourceName']))"
   ]
  },
  {
   "cell_type": "code",
   "execution_count": 8,
   "metadata": {},
   "outputs": [
    {
     "data": {
      "text/plain": [
       "(2832694, 9)"
      ]
     },
     "execution_count": 8,
     "metadata": {},
     "output_type": "execute_result"
    }
   ],
   "source": [
    "data.shape"
   ]
  }
 ],
 "metadata": {
  "kernelspec": {
   "display_name": "Python 3.10.6 64-bit ('health')",
   "language": "python",
   "name": "python3"
  },
  "language_info": {
   "codemirror_mode": {
    "name": "ipython",
    "version": 3
   },
   "file_extension": ".py",
   "mimetype": "text/x-python",
   "name": "python",
   "nbconvert_exporter": "python",
   "pygments_lexer": "ipython3",
   "version": "3.10.6"
  },
  "orig_nbformat": 4,
  "vscode": {
   "interpreter": {
    "hash": "6f5c897076166b3d252af638b18b03251dd721860390d63e24cc4abb8ba78a13"
   }
  }
 },
 "nbformat": 4,
 "nbformat_minor": 2
}
